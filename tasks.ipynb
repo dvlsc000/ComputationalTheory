{
 "cells": [
  {
   "cell_type": "markdown",
   "metadata": {},
   "source": [
    "## Task 1: Binary Representation\n",
    "\n",
    "In this task, several functions in Python are implemented to perform bit-level operations on 32-bit unsigned integers.\n",
    "\n",
    "### The Implemented Functions:\n",
    "\n",
    " 1. `rotl(x, n=1)`\n",
    "Rotates the bits in `x` to the left by `n` positions.\n",
    "\n",
    " 2. `rotr(x, n=1)`\n",
    "Rotates the bits in `x` to the right by `n` positions.\n",
    "\n",
    " 3. `ch(x, y, z)`\n",
    "Chooses bits from `y` where `x` has `1`s and bits from `z` where `x` has `0`s.\n",
    "\n",
    " 4. `maj(x, y, z)`\n",
    "For each bit position, performs a majority vote among `x`, `y`, and `z`.  \n",
    "That is, the resulting bit is `1` if at least two of the corresponding bits in `x`, `y`, and `z` are `1`; otherwise, `0`.\n"
   ]
  },
  {
   "cell_type": "markdown",
   "metadata": {},
   "source": [
    "## Description of the `rotl` Function\n",
    "\n",
    "### Overview\n",
    "The `rotl` function performs a **left bit rotation** on a **32-bit unsigned integer**. Left rotation shifts bits to the left and moves the overflow bits back to the right side, effectively cycling the bits.\n",
    "\n",
    "### Functionality\n",
    "- **Ensures 32-bit unsigned integer**: The input value `x` is masked using `x &= 0xffffffff` to ensure it remains within the **32-bit range**.\n",
    "- **Handles large rotations**: Since rotating by `n` positions is equivalent to rotating by `n % 32`, the function reduces unnecessary operations using `n %= 32`.\n",
    "- **Performs bit rotation**: The function shifts `x` left by `n` bits and shifts it right by `(32 - n)` bits, then combines the results using bitwise OR (`|`).\n",
    "- **Maintains 32-bit result**: The final result is masked using `& 0xFFFFFFFF` to ensure that it does not exceed 32 bits.\n",
    "\n"
   ]
  },
  {
   "cell_type": "code",
   "execution_count": 26,
   "metadata": {},
   "outputs": [],
   "source": [
    "def rotl(x, n=1):\n",
    "    \"\"\"\n",
    "    Rotate bits in x to the left by n positions (32-bit unsigned integer).\n",
    "    \n",
    "    Args:\n",
    "        x (int): The 32-bit unsigned integer to rotate.\n",
    "        n (int): The number of positions to rotate (default is 1).\n",
    "        \n",
    "    Returns:\n",
    "        int: The 32-bit integer after rotation.\n",
    "        \n",
    "    Example:\n",
    "        rotl(0b00000000000000000000000000010100, 3) returns 0b00000000000000000000000010100000\n",
    "    \"\"\"\n",
    "    # Ensure x is treated as a 32-bit unsigned integer\n",
    "    x &= 0xffffffff\n",
    "\n",
    "    # Use modulo 32 to handle cases where n > 32\n",
    "    n %= 32\n",
    "\n",
    "    # Perform the rotation by shifting left and right\n",
    "    # Reference: https://www.geeksforgeeks.org/python3-program-to-rotate-bits-of-a-number/?utm_source=chatgpt.com\n",
    "    return ((x << n) | (x >> (32 - n))) & 0xFFFFFFFF  # Masking to ensure 32-bit unsigned integer result\n",
    "\n"
   ]
  },
  {
   "cell_type": "code",
   "execution_count": 27,
   "metadata": {},
   "outputs": [],
   "source": [
    "# Test cases for rotl(x, n=1)\n",
    "# The test ensure correctness of the rotr function across different scenarios."
   ]
  },
  {
   "cell_type": "code",
   "execution_count": 28,
   "metadata": {},
   "outputs": [
    {
     "name": "stdout",
     "output_type": "stream",
     "text": [
      "Testing rotl(x, n=1) function:\n",
      "\n",
      "\tTest Case 1: rotl(0x12345678, 4) = 0x23456781\n",
      "\tTest Case 2: rotl(0x12345678, 0) = 0x12345678\n",
      "\tTest Case 3: rotl(0x12345678, 32) = 0x12345678\n",
      "\tTest Case 4: rotl(0x12345678, 36) = 0x23456781\n"
     ]
    }
   ],
   "source": [
    "# Test cases for rotl(x, n=1)\n",
    "if __name__ == '__main__':\n",
    "\n",
    "    print(\"Testing rotl(x, n=1) function:\\n\")\n",
    "\n",
    "    # Test 1: Rotate a typical 32-bit integer\n",
    "    x = 0x12345678\n",
    "    result = rotl(x, 4)\n",
    "    print(f\"\\tTest Case 1: rotl(0x{x:08x}, 4) = 0x{result:08x}\")\n",
    "\n",
    "    # Test 2: Rotation by 0 positions should return the same number\n",
    "    result = rotl(x, 0)\n",
    "    print(f\"\\tTest Case 2: rotl(0x{x:08x}, 0) = 0x{result:08x}\")\n",
    "\n",
    "    # Test 3: Rotation by 32 positions should return the same number\n",
    "    result = rotl(x, 32)\n",
    "    print(f\"\\tTest Case 3: rotl(0x{x:08x}, 32) = 0x{result:08x}\")\n",
    "\n",
    "    # Test 4: Rotation by a value greater than 32 (e.g., 36) is handled modulo 32\n",
    "    result = rotl(x, 36)\n",
    "    print(f\"\\tTest Case 4: rotl(0x{x:08x}, 36) = 0x{result:08x}\")"
   ]
  },
  {
   "cell_type": "code",
   "execution_count": 29,
   "metadata": {},
   "outputs": [],
   "source": [
    "def rotr(x, n=1):\n",
    "    \"\"\"\n",
    "    Rotate bits in x to the right by n positions (32-bit unsigned integer).\n",
    "    \n",
    "    Args:\n",
    "        x (int): The 32-bit unsigned integer to rotate.\n",
    "        n (int): The number of positions to rotate (default is 1).\n",
    "        \n",
    "    Returns:\n",
    "        int: The 32-bit integer after rotation.\n",
    "        \n",
    "    Example:\n",
    "        rotr(0b00000000000000000000000010100000, 3) returns 0b00000000000000000000000000010100\n",
    "    \"\"\"\n",
    "\n",
    "    # Ensure x is treated as a 32-bit unsigned integer\n",
    "    x &= 0xffffffff\n",
    "\n",
    "    # Use modulo 32 to handle cases where n > 32\n",
    "    n %= 32\n",
    "\n",
    "    # Perform the rotation by shifting right and left\n",
    "    return ((x >> n) | (x << (32 - n))) & 0xFFFFFFFF  # Masking to ensure 32-bit unsigned integer result"
   ]
  },
  {
   "cell_type": "code",
   "execution_count": 30,
   "metadata": {},
   "outputs": [],
   "source": [
    "# Test cases for rotr(x, n=1)\n",
    "# The test ensure correctness of the rotr function across different scenarios."
   ]
  },
  {
   "cell_type": "code",
   "execution_count": 31,
   "metadata": {},
   "outputs": [
    {
     "name": "stdout",
     "output_type": "stream",
     "text": [
      "Testing rotr(x, n=1) function:\n",
      "\n",
      "\tTest Case 1: rotr(0x12345678, 4) = 0x81234567\n",
      "\tTest Case 2: rotr(0x12345678, 0) = 0x12345678\n",
      "\tTest Case 3: rotr(0x12345678, 32) = 0x12345678\n",
      "\tTest Case 4: rotr(0x12345678, 36) = 0x81234567\n"
     ]
    }
   ],
   "source": [
    "# Test cases for rotr(x, n=1)\n",
    "if __name__ == '__main__':\n",
    "\n",
    "    print(\"Testing rotr(x, n=1) function:\\n\")\n",
    "\n",
    "    # Test 1: Rotate a typical 32-bit integer\n",
    "    x = 0x12345678\n",
    "    result = rotr(x, 4)\n",
    "    print(f\"\\tTest Case 1: rotr(0x{x:08x}, 4) = 0x{result:08x}\")\n",
    "\n",
    "    # Test 2: Rotation by 0 positions should return the same number\n",
    "    result = rotr(x, 0)\n",
    "    print(f\"\\tTest Case 2: rotr(0x{x:08x}, 0) = 0x{result:08x}\")\n",
    "\n",
    "    # Test 3: Rotation by 32 positions should return the same number\n",
    "    result = rotr(x, 32)\n",
    "    print(f\"\\tTest Case 3: rotr(0x{x:08x}, 32) = 0x{result:08x}\")\n",
    "\n",
    "    # Test 4: Rotation by a value greater than 32 (e.g., 36) is handled modulo 32\n",
    "    result = rotr(x, 36)\n",
    "    print(f\"\\tTest Case 4: rotr(0x{x:08x}, 36) = 0x{result:08x}\")"
   ]
  },
  {
   "cell_type": "code",
   "execution_count": 32,
   "metadata": {},
   "outputs": [],
   "source": [
    "def ch(x, y, z):\n",
    "    \"\"\"\n",
    "    Choose bits from y where x has bits set to 1 and from z where x has bits set to 0.\n",
    "    \n",
    "    Args:\n",
    "        x (int): The 32-bit unsigned integer that determines where to take bits from y or z.\n",
    "        y (int): The 32-bit unsigned integer where bits will be taken when x has bits set to 1.\n",
    "        z (int): The 32-bit unsigned integer where bits will be taken when x has bits set to 0.\n",
    "        \n",
    "    Returns:\n",
    "        int: The resulting 32-bit integer after applying the ch function.\n",
    "        \n",
    "    Example:\n",
    "        ch(0b1101, 0b1111, 0b0000) returns 0b1011\n",
    "    \"\"\"\n",
    "\n",
    "    # Ensure x, y, z are treated as 32-bit unsigned integers\n",
    "    x &= 0xffffffff\n",
    "    y &= 0xffffffff\n",
    "    z &= 0xffffffff\n",
    "\n",
    "    # Use bitwise operations to select bits\n",
    "    return ((x & y) | (~x & z)) & 0xFFFFFFFF  # Masking to ensure 32-bit unsigned integer result"
   ]
  },
  {
   "cell_type": "code",
   "execution_count": 33,
   "metadata": {},
   "outputs": [],
   "source": [
    "# Test cases for ch(x, y, z)\n",
    "# The test ensure correctness of the rotr function across different scenarios."
   ]
  },
  {
   "cell_type": "code",
   "execution_count": 34,
   "metadata": {},
   "outputs": [
    {
     "name": "stdout",
     "output_type": "stream",
     "text": [
      "Testing ch(x, y, z) function:\n",
      "\n",
      "\tTest Case 1: ch(0b1101, 0b1111, 0b0000) = 0b1101\n",
      "\tTest Case 2: ch(0b1111, 0b1100, 0b1010) = 0b1100\n",
      "\tTest Case 3: ch(0b0000, 0b1111, 0b1010) = 0b1010\n",
      "\tTest Case 4: ch(0b1010, 0b1100, 0b0110) = 0b1100\n"
     ]
    }
   ],
   "source": [
    "# Test cases for ch(x, y, z)\n",
    "if __name__ == '__main__':\n",
    "    print(\"Testing ch(x, y, z) function:\\n\")\n",
    "\n",
    "    # Test 1: Typical case where bits from y and z are selected based on x\n",
    "    x = 0b1101\n",
    "    y = 0b1111\n",
    "    z = 0b0000\n",
    "    result = ch(x, y, z)\n",
    "    print(f\"\\tTest Case 1: ch(0b{x:04b}, 0b{y:04b}, 0b{z:04b}) = 0b{result:04b}\")\n",
    "\n",
    "    # Test 2: x is all 1's, so all bits are chosen from y\n",
    "    x = 0b1111\n",
    "    y = 0b1100\n",
    "    z = 0b1010\n",
    "    result = ch(x, y, z)\n",
    "    print(f\"\\tTest Case 2: ch(0b{x:04b}, 0b{y:04b}, 0b{z:04b}) = 0b{result:04b}\")\n",
    "\n",
    "    # Test 3: x is all 0's, so all bits are chosen from z\n",
    "    x = 0b0000\n",
    "    y = 0b1111\n",
    "    z = 0b1010\n",
    "    result = ch(x, y, z)\n",
    "    print(f\"\\tTest Case 3: ch(0b{x:04b}, 0b{y:04b}, 0b{z:04b}) = 0b{result:04b}\")\n",
    "\n",
    "     # Test 4: Rotation where x has random bits set\n",
    "    x = 0b1010\n",
    "    y = 0b1100\n",
    "    z = 0b0110\n",
    "    result = ch(x, y, z)\n",
    "    print(f\"\\tTest Case 4: ch(0b{x:04b}, 0b{y:04b}, 0b{z:04b}) = 0b{result:04b}\")\n"
   ]
  },
  {
   "cell_type": "code",
   "execution_count": 35,
   "metadata": {},
   "outputs": [],
   "source": [
    "def maj(x, y, z):\n",
    "    \"\"\"\n",
    "    Compute the majority function on each bit of x, y, and z.\n",
    "    \n",
    "    Args:\n",
    "        x (int): The first 32-bit unsigned integer.\n",
    "        y (int): The second 32-bit unsigned integer.\n",
    "        z (int): The third 32-bit unsigned integer.\n",
    "    \n",
    "    Returns:\n",
    "        int: The resulting 32-bit integer after applying the majority function.\n",
    "    \n",
    "    Example:\n",
    "        maj(0b1101, 0b1011, 0b1001) returns 0b1001\n",
    "    \"\"\"\n",
    "\n",
    "    # Ensure x, y, and z are treated as 32-bit unsigned integers\n",
    "    x &= 0xffffffff\n",
    "    y &= 0xffffffff\n",
    "    z &= 0xffffffff\n",
    "\n",
    "    # Majority function using bitwise operations\n",
    "    return ((x & y) | (x & z) | (y & z)) & 0xFFFFFFFF"
   ]
  },
  {
   "cell_type": "code",
   "execution_count": 36,
   "metadata": {},
   "outputs": [
    {
     "name": "stdout",
     "output_type": "stream",
     "text": [
      "Testing maj(x, y, z) function:\n",
      "\n",
      "\tTest Case 1: maj(0b1101, 0b1011, 0b1001) = 0b1001\n",
      "\tTest Case 2: maj(0b1111, 0b1111, 0b1111) = 0b1111\n",
      "\tTest Case 3: maj(0b0000, 0b1111, 0b1111) = 0b1111\n",
      "\tTest Case 4: maj(0b0101, 0b1010, 0b1100) = 0b1100\n"
     ]
    }
   ],
   "source": [
    "if __name__ == '__main__':\n",
    "    print(\"Testing maj(x, y, z) function:\\n\")\n",
    "\n",
    "    # Test 1: Majority bits should be selected correctly\n",
    "    x = 0b1101\n",
    "    y = 0b1011\n",
    "    z = 0b1001\n",
    "    result = maj(x, y, z)\n",
    "    print(f\"\\tTest Case 1: maj(0b{x:04b}, 0b{y:04b}, 0b{z:04b}) = 0b{result:04b}\")\n",
    "\n",
    "    # Test 2: All inputs are the same and should return the same value\n",
    "    x = 0b1111\n",
    "    y = 0b1111\n",
    "    z = 0b1111\n",
    "    result = maj(x, y, z)\n",
    "    print(f\"\\tTest Case 2: maj(0b{x:04b}, 0b{y:04b}, 0b{z:04b}) = 0b{result:04b}\")\n",
    "\n",
    "    # Test 3: One input differs completely\n",
    "    x = 0b0000\n",
    "    y = 0b1111\n",
    "    z = 0b1111\n",
    "    result = maj(x, y, z)\n",
    "    print(f\"\\tTest Case 3: maj(0b{x:04b}, 0b{y:04b}, 0b{z:04b}) = 0b{result:04b}\")\n",
    "\n",
    "    # Test 4: Random bit pattern\n",
    "    x = 0b0101\n",
    "    y = 0b1010\n",
    "    z = 0b1100\n",
    "    result = maj(x, y, z)\n",
    "    print(f\"\\tTest Case 4: maj(0b{x:04b}, 0b{y:04b}, 0b{z:04b}) = 0b{result:04b}\")\n"
   ]
  }
 ],
 "metadata": {
  "kernelspec": {
   "display_name": "Python 3",
   "language": "python",
   "name": "python3"
  },
  "language_info": {
   "codemirror_mode": {
    "name": "ipython",
    "version": 3
   },
   "file_extension": ".py",
   "mimetype": "text/x-python",
   "name": "python",
   "nbconvert_exporter": "python",
   "pygments_lexer": "ipython3",
   "version": "3.12.1"
  },
  "orig_nbformat": 4
 },
 "nbformat": 4,
 "nbformat_minor": 2
}
