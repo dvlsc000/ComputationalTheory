{
 "cells": [
  {
   "cell_type": "code",
   "execution_count": 2,
   "metadata": {},
   "outputs": [],
   "source": [
    "# Task 1: Binary Representation\n",
    "\n",
    "# In this task, several functions in Python are implemented to perform bit-level\n",
    "# operations on 32-bit unsigned integers.\n",
    "\n",
    "# The implemented functions are:"
   ]
  },
  {
   "cell_type": "code",
   "execution_count": 3,
   "metadata": {},
   "outputs": [],
   "source": [
    "# 1. rotl(x, n=1): \n",
    "\n",
    "    # Rotates the bits in the 32-bit unsigned integer 'x' to the left by 'n' positions.\n",
    "    \n",
    "    # Example: If 'x' is represented in binary, the bits will wrap around from\n",
    "    # the right end to the left end. "
   ]
  },
  {
   "cell_type": "code",
   "execution_count": 4,
   "metadata": {},
   "outputs": [],
   "source": [
    "def rotl(x, n=1):\n",
    "    \"\"\"\n",
    "    Rotate bits in x to the left by n positions (32-bit unsigned integer).\n",
    "    \n",
    "    Args:\n",
    "        x (int): The 32-bit unsigned integer to rotate.\n",
    "        n (int): The number of positions to rotate (default is 1).\n",
    "        \n",
    "    Returns:\n",
    "        int: The 32-bit integer after rotation.\n",
    "        \n",
    "    Example:\n",
    "        rotl(0b00000000000000000000000000010100, 3) returns 0b00000000000000000000000010100000\n",
    "    \"\"\"\n",
    "    # Ensure x is treated as a 32-bit unsigned integer\n",
    "    x &= 0xffffffff\n",
    "\n",
    "    # Use modulo 32 to handle cases where n > 32\n",
    "    n %= 32\n",
    "\n",
    "    # Perform the rotation by shifting left and right\n",
    "    # Reference: https://www.geeksforgeeks.org/python3-program-to-rotate-bits-of-a-number/?utm_source=chatgpt.com\n",
    "    return ((x << n) | (x >> (32 - n))) & 0xFFFFFFFF  # Masking to ensure 32-bit unsigned integer result\n",
    "\n"
   ]
  },
  {
   "cell_type": "code",
   "execution_count": 5,
   "metadata": {},
   "outputs": [
    {
     "name": "stdout",
     "output_type": "stream",
     "text": [
      "rotl(0x12345678, 4) = 0x23456781\n",
      "rotl(0x12345678, 0) = 0x12345678\n",
      "rotl(0x12345678, 32) = 0x12345678\n",
      "rotl(0x12345678, 36) = 0x23456781\n"
     ]
    }
   ],
   "source": [
    "# Test cases for rotl(x, n=1)\n",
    "if __name__ == '__main__':\n",
    "    # Example 1: Rotate a typical 32-bit integer\n",
    "    x = 0x12345678\n",
    "    result = rotl(x, 4)\n",
    "    print(f\"rotl(0x{x:08x}, 4) = 0x{result:08x}\")\n"
   ]
  }
 ],
 "metadata": {
  "kernelspec": {
   "display_name": "base",
   "language": "python",
   "name": "python3"
  },
  "language_info": {
   "codemirror_mode": {
    "name": "ipython",
    "version": 3
   },
   "file_extension": ".py",
   "mimetype": "text/x-python",
   "name": "python",
   "nbconvert_exporter": "python",
   "pygments_lexer": "ipython3",
   "version": "3.12.3"
  },
  "orig_nbformat": 4
 },
 "nbformat": 4,
 "nbformat_minor": 2
}
