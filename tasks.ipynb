{
 "cells": [
  {
   "cell_type": "code",
   "execution_count": null,
   "metadata": {},
   "outputs": [],
   "source": [
    "# Task 1: Binary Representation\n",
    "\n",
    "# In this task, several functions in Python are implemented to perform bit-level\n",
    "# operations on 32-bit unsigned integers.\n",
    "\n",
    "# The functions to be implemented are:\n",
    "    # 1. rotl(x, n=1): \n",
    "        # Rotates the bits in the 32-bit unsigned integer 'x' to the left by 'n' positions.\n",
    "        # Example: If 'x' is represented in binary, the bits will wrap around from\n",
    "        # the right end to the left end. "
   ]
  },
  {
   "cell_type": "code",
   "execution_count": null,
   "metadata": {},
   "outputs": [],
   "source": [
    "def rotl(x, n=1):\n",
    "    \"\"\"\n",
    "    Rotate bits in x to the left by n positions (32-bit unsigned integer).\n",
    "    \n",
    "    Args:\n",
    "        x (int): The 32-bit unsigned integer to rotate.\n",
    "        n (int): The number of positions to rotate (default is 1).\n",
    "        \n",
    "    Returns:\n",
    "        int: The 32-bit integer after rotation.\n",
    "        \n",
    "    Example:\n",
    "        rotl(0b00000000000000000000000000010100, 3) returns 0b00000000000000000000000010100000\n",
    "    \"\"\"\n",
    "    # Perform the rotation by shifting left and right\n",
    "    return ((x << n) | (x >> (32 - n))) & 0xFFFFFFFF  # Masking to ensure 32-bit unsigned integer result\n",
    "\n"
   ]
  }
 ],
 "metadata": {
  "language_info": {
   "name": "python"
  },
  "orig_nbformat": 4
 },
 "nbformat": 4,
 "nbformat_minor": 2
}
